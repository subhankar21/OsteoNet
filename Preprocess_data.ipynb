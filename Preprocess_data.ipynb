{
  "cells": [
    {
      "cell_type": "code",
      "execution_count": null,
      "metadata": {
        "id": "ehitYEzHMA9g"
      },
      "outputs": [],
      "source": [
        "import tensorflow as tf\n",
        "import numpy as np\n",
        "import os\n",
        "import sys\n",
        "import cv2\n",
        "import matplotlib.pyplot as plt\n",
        "import pickle\n",
        "import random\n",
        "import pandas as pd\n",
        "%matplotlib inline"
      ]
    },
    {
      "cell_type": "code",
      "source": [
        "from google.colab import drive\n",
        "drive.mount('/content/drive')"
      ],
      "metadata": {
        "colab": {
          "base_uri": "https://localhost:8080/"
        },
        "id": "5oF1aqISMH9S",
        "outputId": "3142b32e-f281-45f9-ed2d-4093ae45e09f"
      },
      "execution_count": null,
      "outputs": [
        {
          "output_type": "stream",
          "name": "stdout",
          "text": [
            "Mounted at /content/drive\n"
          ]
        }
      ]
    },
    {
      "cell_type": "code",
      "execution_count": null,
      "metadata": {
        "id": "EXxzNDHVMA9i"
      },
      "outputs": [],
      "source": [
        "DATA_DIR = \"/content/drive/MyDrive/Datasets/Osteosarcoma_Dataset\"\n",
        "CATERGORIES = os.listdir(DATA_DIR)\n",
        "IMAGE_SIZE = 128"
      ]
    },
    {
      "cell_type": "code",
      "execution_count": null,
      "metadata": {
        "id": "HzA9w6RaMA9j"
      },
      "outputs": [],
      "source": [
        "def create_training_data():\n",
        "    training_date = []\n",
        "    for categories in CATERGORIES:\n",
        "        path = os.path.join(DATA_DIR,categories)\n",
        "        class_num = CATERGORIES.index(categories)\n",
        "        for img in os.listdir(path):\n",
        "            try:\n",
        "                #img_array = cv2.imread(os.path.join(path,img),cv2.IMREAD_GRAYSCALE)\n",
        "                img_array = cv2.imread(os.path.join(path,img))\n",
        "                new_array = cv2.resize(img_array,(IMAGE_SIZE,IMAGE_SIZE))\n",
        "                training_date.append([new_array,class_num])\n",
        "            except:\n",
        "                pass\n",
        "    return training_date"
      ]
    },
    {
      "cell_type": "code",
      "execution_count": null,
      "metadata": {
        "colab": {
          "base_uri": "https://localhost:8080/"
        },
        "id": "MzKIgldtMA9j",
        "outputId": "389df06d-cc49-417b-ff70-d598e9cc9eb0"
      },
      "outputs": [
        {
          "output_type": "stream",
          "name": "stderr",
          "text": [
            "<ipython-input-6-b420a3ad254e>:1: VisibleDeprecationWarning: Creating an ndarray from ragged nested sequences (which is a list-or-tuple of lists-or-tuples-or ndarrays with different lengths or shapes) is deprecated. If you meant to do this, you must specify 'dtype=object' when creating the ndarray.\n",
            "  data = np.asarray(create_training_data())\n"
          ]
        }
      ],
      "source": [
        "data = np.asarray(create_training_data())"
      ]
    },
    {
      "cell_type": "code",
      "execution_count": null,
      "metadata": {
        "id": "Ooru6QDLMA9k"
      },
      "outputs": [],
      "source": [
        "x_data = []\n",
        "y_data = []\n",
        "\n",
        "for x in data:\n",
        "    x_data.append(x[0])\n",
        "    y_data.append(x[1])"
      ]
    },
    {
      "cell_type": "code",
      "execution_count": null,
      "metadata": {
        "id": "R9qwr2XqMA9k"
      },
      "outputs": [],
      "source": [
        "x_data_np = np.asarray(x_data)/255.0\n",
        "y_data_np = np.asarray(y_data)"
      ]
    },
    {
      "cell_type": "code",
      "execution_count": null,
      "metadata": {
        "id": "7KQZSZLYMA9k"
      },
      "outputs": [],
      "source": [
        "pickle_out = open('/content/drive/MyDrive/Datasets/Osteosarcoma_Dataset/x_data','wb')\n",
        "pickle.dump(x_data_np,pickle_out)\n",
        "pickle_out.close()"
      ]
    },
    {
      "cell_type": "code",
      "execution_count": null,
      "metadata": {
        "id": "a-8D3p8wMA9l"
      },
      "outputs": [],
      "source": [
        "pickle_out = open('/content/drive/MyDrive/Datasets/Osteosarcoma_Dataset/y_data','wb')\n",
        "pickle.dump(y_data_np,pickle_out)\n",
        "pickle_out.close()"
      ]
    }
  ],
  "metadata": {
    "kernelspec": {
      "display_name": "Python 3",
      "language": "python",
      "name": "python3"
    },
    "language_info": {
      "codemirror_mode": {
        "name": "ipython",
        "version": 3
      },
      "file_extension": ".py",
      "mimetype": "text/x-python",
      "name": "python",
      "nbconvert_exporter": "python",
      "pygments_lexer": "ipython3",
      "version": "3.7.3"
    },
    "colab": {
      "provenance": []
    }
  },
  "nbformat": 4,
  "nbformat_minor": 0
}